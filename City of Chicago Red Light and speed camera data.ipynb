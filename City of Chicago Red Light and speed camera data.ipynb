{
 "cells": [
  {
   "cell_type": "markdown",
   "metadata": {},
   "source": [
    "http://www.datakind.org/projects\n",
    "Huge amount of projects"
   ]
  },
  {
   "cell_type": "markdown",
   "metadata": {},
   "source": [
    "## City of Chicago Red Light and speed camera data"
   ]
  },
  {
   "cell_type": "markdown",
   "metadata": {},
   "source": [
    "Prediction: Can we predict the likelihood you will get a ticket at a certain location?"
   ]
  },
  {
   "cell_type": "markdown",
   "metadata": {},
   "source": [
    "Extend: Feed through the JSON direction data from Google maps to predict the likelihood you will get a ticket along your route."
   ]
  },
  {
   "cell_type": "markdown",
   "metadata": {},
   "source": [
    "Validation: We can pull red light tickets and speed camera tickets to check as testing data since those datasets are continuously updated with a 14 day backlog"
   ]
  },
  {
   "cell_type": "markdown",
   "metadata": {},
   "source": [
    "#### Data Portals:\n",
    "\n",
    "http://apps.dot.illinois.gov/eplan/desenv/crash/City%20Summaries/Year%202015/Chicago.pdf\n",
    "\n",
    "http://apps.dot.illinois.gov/eplan/desenv/crash/City%20Summaries/\n",
    "\n",
    "http://www.idot.illinois.gov/transportation-system/safety/Illinois-Roadway-Crash-Data\n",
    "\n",
    "old data : http://www.idph.state.il.us/emsrpt/\n",
    "\n",
    "https://chihacknight.org/data-resources.html\n",
    "\n",
    "https://developers.google.com/maps/documentation/directions/usage-limits\n",
    "\n",
    "https://developers.google.com/maps/documentation/directions/intro\n",
    "\n",
    "https://data.cityofchicago.org/Transportation/Speed-Camera-Locations/4i42-qv3h\n",
    "\n",
    "https://data.cityofchicago.org/Transportation/Speed-Camera-Violations/hhkd-xvj4\n",
    "\n",
    "https://data.cityofchicago.org/Transportation/Red-Light-Camera-Violations/caas-knxs\n",
    "\n",
    "pull idot average traffic data for the street intersections"
   ]
  },
  {
   "cell_type": "markdown",
   "metadata": {},
   "source": [
    "Continue searchng\n",
    "https://www.google.com/search?rlz=1C1CHBF_enUS726US726&ei=vwYFW67aO4nn0gLS4KKADw&q=data+analysis+predict+ticket+%22red+light+cameras%22&oq=data+analysis+predict+ticket+%22red+light+cameras%22&gs_l=psy-ab.3...20811.27774.0.28116.22.20.1.0.0.0.320.2331.0j11j0j2.13.0....0...1.1.64.psy-ab..8.7.1404...33i160k1j33i21k1.0.qB2VlHYvtfU"
   ]
  },
  {
   "cell_type": "markdown",
   "metadata": {},
   "source": [
    "#### Red light camera study bu NWU in 2017 with stats and methodologies uses Empirical Baysian and Regression Models\n",
    "\n",
    "http://www.transportation.northwestern.edu/documents/research/featured-reports/RLC-Report-Web.pdf\n",
    "\n",
    "Info pulled from Cdot and more. The dataset included: date-time,\n",
    "speed of the vehicle while violating, associated vehicular lane and posted speed limit.\n",
    "Information related to signal timing contains the all red duration, yellow time, cycle length, total\n",
    "number of lanes on the approach.\n",
    "\n",
    "Annual Average Daily Traffic\n",
    "(AADT) was obtained from an online data portal provided by the city of Chicago; however, we\n",
    "corrected AADT for monthly traffic patterns as published by the Illinois Department of\n",
    "Transportation for the different years.\n",
    "\n",
    "The data set includes 10,944 observations (152 x 72), for 152 red-light cameras (panels)\n",
    "over 72-month period. Due to maintenance and short black-out periods of some cameras,\n",
    "violations were not detected for specific time periods. For a better estimate of the models, the\n",
    "missing values were imputed before using the data to build the regression models (22). More\n",
    "details on the algorithm used to predict the missing data can be found in Appendix 8.3.1.\n",
    "\n",
    "To model frequency of RLC violations in Chicago IL, regression models using serially\n",
    "correlated (time-dependent) panels are used. Panel data analysis (often referred to as longitudinal\n",
    "or cross-sectional time series data) was chosen since RLC violations were observed over a long\n",
    "period of time (6 years)\n",
    "\n",
    " y predicts is the frequency of RLC violations\n",
    " \n",
    "explanatory variables (AADT, road\n",
    "geometry, and signal timing variables\n",
    "\n",
    "Predicted vs. actual values of total RLC violations are plotted\n",
    "\n",
    "Results showed that variables which have a positive effect (increase) on the frequency of\n",
    "RLC violations are higher traffic volume per lane, more lanes and higher speed limit along the\n",
    "approach, the distance to be traversed by crossing traffic (indicating the width of the roadway),\n",
    "blocked left turn from the approach, longer cycle length, and an all-red phase of 2 sec compared\n",
    "to 1 sec. On the other hand, variables that have a negative effect (decrease) on the frequency of\n",
    "RLC violations include the volume incoming from the crossing approach, and the number of\n",
    "lanes of the crossing approach, the presence of a left turn bay on the main (self) approach,\n",
    "presence of a left-turning arrow in the opposite direction (which suggests substantial incoming\n",
    "Explanatory Variables All Violations RROR 20 High Speed 1-Into-Red conflicting turning traffic), RTOR prohibition, the existence of a median, and a yellow phase of 4 seconds compared to 3.\n",
    "\n",
    "IDOT GIS DATA http://apps.dot.illinois.gov/gist2/\n",
    "\n",
    " Lord, D., and S. Geedipally. Safety Effects of the Red-Light Camera Enforcement Program in\n",
    "Chicago, Illinois, Research Report Prepared for the Chicago Tribune, 2014.\n",
    "\n",
    "Dong, C., D. B. Clarke, X. Yan, A. Khattak, and B. Huang. Multivariate RandomParameters\n",
    "Zero-Inflated Negative Binomial Regression Model: An Application to Estimate\n",
    "Crash Frequencies at Intersections. Accident Analysis & Prevention, Vol. 70, 2014, pp. 320-329.\n",
    "\n",
    "IDOT. Illinois Roadway Crash Data. http://www.idot.illinois.gov/transportationsystem/safety/Illinois-Roadway-Crash-Data.\n",
    "Accessed May, 2016. New wroking address http://www.idot.illinois.gov/transportation-system/safety/Illinois-Roadway-Crash-Data\n",
    "\n",
    "FHWA. Motor Vehicle Accident Costs. http://safety.fhwa.dot.gov/facts_stats/t75702.cfm.\n",
    "Accessed September, 2016.\n",
    "\n",
    "Yang, C., and W. G. Najm. Analysis of Red Light Violation Data Collected from\n",
    "Intersections Equipped with Red Light Photo Enforcement Cameras. 2006.\n",
    "\n",
    "missing data: the missing values were predicted before using the data to build the regression models \n",
    "As model specifications of spatial and serial correlations require a balanced panel data set where\n",
    "the same number of time periods is available for all panels, a multiple imputations algorithm was\n",
    "implemented to fill in missing observations of RLC violations based on the trends of the known\n",
    "observations. Although missing observations account for only 3.4% percent of the total\n",
    "observations in the data set, using a multiple imputations should reduce the bias that might result\n",
    "from missing observations or using a simple average to fill them (22). One concern was that the\n",
    "imputed values were of the dependent variable rather than explanatory variables of which no data\n",
    "was missing. However, as Young, Johnson, and Graham (78) (79) explain, an imputation model\n",
    "does not capture causal relationships in the data. Rather a tool to “preserve important features of\n",
    "observed information in imputed values” (78). \n",
    "The implemented algorithm, AMELIA (a package in R system), performs multiple\n",
    "imputations for each missing cell in the data set based on observed data to create a complete data\n",
    "set. The multiple imputations capture the uncertainty in the missing data. AMELIA has two main\n",
    "assumptions behind its algorithm: 1) complete data are multivariate normal, 2) data are missing\n",
    "at random (MAR). MAR means that the “pattern of missingness depends on the observed\n",
    "data”(22). Thirty imputations were performed for each missing cell, and the average of those 30\n",
    "imputations was used to fill the missing data. The creators of the algorithm suggest that 5\n",
    "imputations are enough for most data sets, however, 30 imputations were used to reduce\n",
    "uncertainty. More information on the imputation algorithm can be found in (22). \n",
    "\n",
    "Generalized Least Squares (GLS), built in the statistical software STATA, was used to\n",
    "estimate the total RLC violations models. GLS performs better at estimating effects in timeseries\n",
    "data when heteroscedasticity and serial correlation are significant (80).\n",
    "\n"
   ]
  },
  {
   "cell_type": "markdown",
   "metadata": {},
   "source": [
    "\n",
    "#### Stats paper on red light cameras in california\n",
    "https://www.nhtsa.gov/DOT/NHTSA/NRD/Multimedia/PDFs/Crash%20Avoidance/2006/810580.pdf"
   ]
  },
  {
   "cell_type": "markdown",
   "metadata": {},
   "source": [
    "#### Less useful articles and research\n",
    "\n",
    "https://www.huffingtonpost.com/entry/troopers-use-big-data-to-predict-crash-sites_us_589c88ebe4b0985224db5e19\n",
    "\n",
    "https://www.sciencedirect.com/science/article/pii/S1514032617300016\n",
    "\n"
   ]
  },
  {
   "cell_type": "markdown",
   "metadata": {},
   "source": [
    "#### Interesting research related\n",
    "http://iquantny.tumblr.com/post/76937212765/using-open-data-to-predict-when-you-might-get-your"
   ]
  },
  {
   "cell_type": "markdown",
   "metadata": {},
   "source": [
    "#### Controversy on the cameras with tribune data analysis\n",
    "http://www.chicagotribune.com/ct-red-light-camera-safety-met-20141219-story.html\n",
    "\n",
    "http://www.chicagotribune.com/news/ct-red-light-camera-ticket-spikes-met-20140717-story.html"
   ]
  },
  {
   "cell_type": "markdown",
   "metadata": {},
   "source": [
    "#### mapping gogle maps data to the algo model for predicting individual travel risks\n",
    "\n",
    " Jovanis, P. P., and H.-L. Chang. Modeling the Relationship of Accidents to Miles Traveled.\n",
    "In Transportation Research Record: Journal of the Transportation Research Board, No. 1068,\n",
    "Transportation Research Board of the National Academies, Washington, D.C., 1986, pp. 42-51"
   ]
  },
  {
   "cell_type": "code",
   "execution_count": null,
   "metadata": {},
   "outputs": [],
   "source": []
  },
  {
   "cell_type": "markdown",
   "metadata": {},
   "source": [
    "# How to Get the Red Light Speed Camera File\n",
    "\n",
    "https://data.cityofchicago.org/Transportation/Red-Light-Camera-Violations/caas-knxs"
   ]
  },
  {
   "cell_type": "markdown",
   "metadata": {},
   "source": [
    "Import the csv file with\n",
    "\n",
    "    wget https://data.cityofchicago.org/api/views/twfh-866z/rows.csv?accessType=DOWNLOAD&bom=true&query=select+*\n",
    "\n",
    "If you haven't denoted any specific filename you will need to rename the file to something readable instead of row.csv?...\n"
   ]
  },
  {
   "cell_type": "code",
   "execution_count": 4,
   "metadata": {},
   "outputs": [],
   "source": [
    "import pandas as pd\n",
    "import numpy as np"
   ]
  },
  {
   "cell_type": "code",
   "execution_count": 7,
   "metadata": {},
   "outputs": [
    {
     "data": {
      "text/html": [
       "<div>\n",
       "<style scoped>\n",
       "    .dataframe tbody tr th:only-of-type {\n",
       "        vertical-align: middle;\n",
       "    }\n",
       "\n",
       "    .dataframe tbody tr th {\n",
       "        vertical-align: top;\n",
       "    }\n",
       "\n",
       "    .dataframe thead th {\n",
       "        text-align: right;\n",
       "    }\n",
       "</style>\n",
       "<table border=\"1\" class=\"dataframe\">\n",
       "  <thead>\n",
       "    <tr style=\"text-align: right;\">\n",
       "      <th></th>\n",
       "      <th>INTERSECTION</th>\n",
       "      <th>CAMERA ID</th>\n",
       "      <th>ADDRESS</th>\n",
       "      <th>VIOLATION DATE</th>\n",
       "      <th>VIOLATIONS</th>\n",
       "      <th>X COORDINATE</th>\n",
       "      <th>Y COORDINATE</th>\n",
       "      <th>LATITUDE</th>\n",
       "      <th>LONGITUDE</th>\n",
       "      <th>LOCATION</th>\n",
       "      <th>Historical Wards 2003-2015</th>\n",
       "      <th>Zip Codes</th>\n",
       "      <th>Community Areas</th>\n",
       "      <th>Census Tracts</th>\n",
       "      <th>Wards</th>\n",
       "    </tr>\n",
       "  </thead>\n",
       "  <tbody>\n",
       "    <tr>\n",
       "      <th>0</th>\n",
       "      <td>111TH AND HALSTED</td>\n",
       "      <td>2424.0</td>\n",
       "      <td>800 W 111TH ST</td>\n",
       "      <td>05/15/2018</td>\n",
       "      <td>5</td>\n",
       "      <td>1.172945e+06</td>\n",
       "      <td>1.831283e+06</td>\n",
       "      <td>41.692465</td>\n",
       "      <td>-87.642441</td>\n",
       "      <td>(41.692465363422, -87.642440901058)</td>\n",
       "      <td>45.0</td>\n",
       "      <td>21861.0</td>\n",
       "      <td>74.0</td>\n",
       "      <td>315.0</td>\n",
       "      <td>22.0</td>\n",
       "    </tr>\n",
       "    <tr>\n",
       "      <th>1</th>\n",
       "      <td>111TH AND HALSTED</td>\n",
       "      <td>2422.0</td>\n",
       "      <td>11100 S HALSTED ST</td>\n",
       "      <td>05/15/2018</td>\n",
       "      <td>12</td>\n",
       "      <td>1.172924e+06</td>\n",
       "      <td>1.831209e+06</td>\n",
       "      <td>41.692263</td>\n",
       "      <td>-87.642523</td>\n",
       "      <td>(41.692263123425, -87.642522687627)</td>\n",
       "      <td>45.0</td>\n",
       "      <td>21861.0</td>\n",
       "      <td>74.0</td>\n",
       "      <td>663.0</td>\n",
       "      <td>22.0</td>\n",
       "    </tr>\n",
       "    <tr>\n",
       "      <th>2</th>\n",
       "      <td>119TH AND HALSTED</td>\n",
       "      <td>2404.0</td>\n",
       "      <td>800 W 119TH STREET</td>\n",
       "      <td>05/15/2018</td>\n",
       "      <td>3</td>\n",
       "      <td>1.173111e+06</td>\n",
       "      <td>1.825985e+06</td>\n",
       "      <td>41.677923</td>\n",
       "      <td>-87.641990</td>\n",
       "      <td>(41.677923389134, -87.64198964584)</td>\n",
       "      <td>45.0</td>\n",
       "      <td>21861.0</td>\n",
       "      <td>50.0</td>\n",
       "      <td>642.0</td>\n",
       "      <td>22.0</td>\n",
       "    </tr>\n",
       "    <tr>\n",
       "      <th>3</th>\n",
       "      <td>119TH AND HALSTED</td>\n",
       "      <td>2402.0</td>\n",
       "      <td>11900 S HALSTED</td>\n",
       "      <td>05/15/2018</td>\n",
       "      <td>11</td>\n",
       "      <td>1.173095e+06</td>\n",
       "      <td>1.825911e+06</td>\n",
       "      <td>41.677721</td>\n",
       "      <td>-87.642052</td>\n",
       "      <td>(41.677720829248, -87.642051844982)</td>\n",
       "      <td>45.0</td>\n",
       "      <td>21861.0</td>\n",
       "      <td>50.0</td>\n",
       "      <td>662.0</td>\n",
       "      <td>22.0</td>\n",
       "    </tr>\n",
       "    <tr>\n",
       "      <th>4</th>\n",
       "      <td>31ST ST AND MARTIN LUTHER KING DRIVE</td>\n",
       "      <td>2121.0</td>\n",
       "      <td>3100 S DR MARTIN L KING</td>\n",
       "      <td>05/15/2018</td>\n",
       "      <td>11</td>\n",
       "      <td>NaN</td>\n",
       "      <td>NaN</td>\n",
       "      <td>NaN</td>\n",
       "      <td>NaN</td>\n",
       "      <td>NaN</td>\n",
       "      <td>NaN</td>\n",
       "      <td>NaN</td>\n",
       "      <td>NaN</td>\n",
       "      <td>NaN</td>\n",
       "      <td>NaN</td>\n",
       "    </tr>\n",
       "  </tbody>\n",
       "</table>\n",
       "</div>"
      ],
      "text/plain": [
       "                           INTERSECTION  CAMERA ID                  ADDRESS  \\\n",
       "0                     111TH AND HALSTED     2424.0           800 W 111TH ST   \n",
       "1                     111TH AND HALSTED     2422.0       11100 S HALSTED ST   \n",
       "2                     119TH AND HALSTED     2404.0       800 W 119TH STREET   \n",
       "3                     119TH AND HALSTED     2402.0          11900 S HALSTED   \n",
       "4  31ST ST AND MARTIN LUTHER KING DRIVE     2121.0  3100 S DR MARTIN L KING   \n",
       "\n",
       "  VIOLATION DATE  VIOLATIONS  X COORDINATE  Y COORDINATE   LATITUDE  \\\n",
       "0     05/15/2018           5  1.172945e+06  1.831283e+06  41.692465   \n",
       "1     05/15/2018          12  1.172924e+06  1.831209e+06  41.692263   \n",
       "2     05/15/2018           3  1.173111e+06  1.825985e+06  41.677923   \n",
       "3     05/15/2018          11  1.173095e+06  1.825911e+06  41.677721   \n",
       "4     05/15/2018          11           NaN           NaN        NaN   \n",
       "\n",
       "   LONGITUDE                             LOCATION  Historical Wards 2003-2015  \\\n",
       "0 -87.642441  (41.692465363422, -87.642440901058)                        45.0   \n",
       "1 -87.642523  (41.692263123425, -87.642522687627)                        45.0   \n",
       "2 -87.641990   (41.677923389134, -87.64198964584)                        45.0   \n",
       "3 -87.642052  (41.677720829248, -87.642051844982)                        45.0   \n",
       "4        NaN                                  NaN                         NaN   \n",
       "\n",
       "   Zip Codes  Community Areas  Census Tracts  Wards  \n",
       "0    21861.0             74.0          315.0   22.0  \n",
       "1    21861.0             74.0          663.0   22.0  \n",
       "2    21861.0             50.0          642.0   22.0  \n",
       "3    21861.0             50.0          662.0   22.0  \n",
       "4        NaN              NaN            NaN    NaN  "
      ]
     },
     "execution_count": 7,
     "metadata": {},
     "output_type": "execute_result"
    }
   ],
   "source": [
    "df_red_light_violations = pd.read_csv('red_light_data.csv')\n",
    "df_red_light_violations.head(5)"
   ]
  }
 ],
 "metadata": {
  "kernelspec": {
   "display_name": "Python [conda env:my_env]",
   "language": "python",
   "name": "conda-env-my_env-py"
  },
  "language_info": {
   "codemirror_mode": {
    "name": "ipython",
    "version": 3
   },
   "file_extension": ".py",
   "mimetype": "text/x-python",
   "name": "python",
   "nbconvert_exporter": "python",
   "pygments_lexer": "ipython3",
   "version": "3.6.5"
  }
 },
 "nbformat": 4,
 "nbformat_minor": 2
}
